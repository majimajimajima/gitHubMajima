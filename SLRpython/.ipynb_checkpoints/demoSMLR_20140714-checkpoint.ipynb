{
 "metadata": {
  "name": ""
 },
 "nbformat": 3,
 "nbformat_minor": 0,
 "worksheets": [
  {
   "cells": [
    {
     "cell_type": "code",
     "collapsed": false,
     "input": [
      "from numpy import *\n",
      "import numpy\n",
      "\n",
      "#import SMLR\n",
      "from SMLR import *\n",
      "\n",
      "#import SVM from scikir-learn\n",
      "import sklearn.svm\n",
      "\n",
      "#prepare classifier objects\n",
      "svm=sklearn.svm.LinearSVC()\n",
      "smlr=SMLR()"
     ],
     "language": "python",
     "metadata": {},
     "outputs": [
      {
       "output_type": "stream",
       "stream": "stdout",
       "text": [
        "SMLR (sparse multinomial logistic regression)\n"
       ]
      }
     ],
     "prompt_number": 35
    },
    {
     "cell_type": "code",
     "collapsed": false,
     "input": [
      "#sample data generation\n",
      "\n",
      "# of samples\n",
      "N=100\n",
      "\n",
      "#label vector\n",
      "label4training=numpy.vstack((numpy.zeros((N,1)),numpy.ones((N,1))))\n",
      "label4test=numpy.vstack((numpy.zeros((N,1)),numpy.ones((N,1))))\n",
      "\n",
      "#mean for each class\n",
      "feature4class1=numpy.array([1,0,0,0,0,0,0,0,0,0])\n",
      "feature4class2=numpy.array([-1,0,0,0,0,0,0,0,0,0])\n",
      "\n",
      "feature4training=numpy.vstack(((numpy.dot(numpy.ones((N,1)),[feature4class1]),numpy.dot(numpy.ones((N,1)),[feature4class2]))))\n",
      "feature4test=numpy.vstack(((numpy.dot(numpy.ones((N,1)),[feature4class1]),numpy.dot(numpy.ones((N,1)),[feature4class2]))))\n",
      "import numpy.random\n",
      "numpy.random.seed(seed=1)\n",
      "feature4training=feature4training+0.5*numpy.random.randn(feature4training.shape[0],feature4training.shape[1])\n",
      "feature4test=feature4test+0.5*numpy.random.randn(feature4test.shape[0],feature4test.shape[1])"
     ],
     "language": "python",
     "metadata": {},
     "outputs": [],
     "prompt_number": 36
    },
    {
     "cell_type": "code",
     "collapsed": false,
     "input": [
      "#scatter plot in the feature space\n",
      "import matplotlib.pyplot\n",
      "for n in range(len(label4training)):\n",
      "    if label4training[n]==0:\n",
      "        matplotlib.pyplot.scatter(feature4training[n,0],feature4training[n,1],color='red')\n",
      "    else:\n",
      "        matplotlib.pyplot.scatter(feature4training[n,0],feature4training[n,1],color='blue')\n",
      "matplotlib.pyplot.xlabel(\"Dimension 1\")\n",
      "matplotlib.pyplot.ylabel(\"Dimension 2\")\n",
      "import pylab\n",
      "pylab.xlim(-3,3)\n",
      "pylab.ylim(-3,3)\n",
      "matplotlib.pyplot.show()"
     ],
     "language": "python",
     "metadata": {},
     "outputs": [
      {
       "metadata": {},
       "output_type": "display_data",
       "png": "[encoded data removed]",
       "text": [
        "<matplotlib.figure.Figure at 0x1129be110>"
       ]
      }
     ],
     "prompt_number": 37
    },
    {
     "cell_type": "code",
     "collapsed": false,
     "input": [
      "#SMLR & SVM training\n",
      "print \"SMLR learning\"\n",
      "smlr.fit(feature4training,label4training)\n",
      "print \"SVM learning\"\n",
      "svm.fit(feature4training,label4training)"
     ],
     "language": "python",
     "metadata": {},
     "outputs": [
      {
       "output_type": "stream",
       "stream": "stdout",
       "text": [
        "SMLR learning\n",
        "# of iterations: 0 ,  # of effective dimensions: 8"
       ]
      },
      {
       "output_type": "stream",
       "stream": "stdout",
       "text": [
        "\n",
        "# of iterations: 20 ,  # of effective dimensions: 3"
       ]
      },
      {
       "output_type": "stream",
       "stream": "stdout",
       "text": [
        "\n",
        "# of iterations: 40 ,  # of effective dimensions: 3"
       ]
      },
      {
       "output_type": "stream",
       "stream": "stdout",
       "text": [
        "\n",
        "# of iterations: 60 ,  # of effective dimensions: 3"
       ]
      },
      {
       "output_type": "stream",
       "stream": "stdout",
       "text": [
        "\n",
        "# of iterations: 80 ,  # of effective dimensions: 3"
       ]
      },
      {
       "output_type": "stream",
       "stream": "stdout",
       "text": [
        "\n",
        "SVM learning"
       ]
      },
      {
       "output_type": "stream",
       "stream": "stdout",
       "text": [
        "\n"
       ]
      },
      {
       "metadata": {},
       "output_type": "pyout",
       "prompt_number": 38,
       "text": [
        "LinearSVC(C=1.0, class_weight=None, dual=True, fit_intercept=True,\n",
        "     intercept_scaling=1, loss='l2', multi_class='ovr', penalty='l2',\n",
        "     random_state=None, tol=0.0001, verbose=0)"
       ]
      }
     ],
     "prompt_number": 38
    },
    {
     "cell_type": "code",
     "collapsed": false,
     "input": [
      "print \"The SLMR weights obtained\"\n",
      "print numpy.transpose(smlr.coef_)\n"
     ],
     "language": "python",
     "metadata": {},
     "outputs": [
      {
       "output_type": "stream",
       "stream": "stdout",
       "text": [
        "The SLMR weights obtained\n",
        "[[ 8.82755976 -8.82755976]\n",
        " [ 1.51092574 -1.51092927]\n",
        " [ 0.          0.        ]\n",
        " [ 0.          0.        ]\n",
        " [ 0.          0.        ]\n",
        " [-1.19425224  1.19425225]\n",
        " [ 0.          0.        ]\n",
        " [ 0.          0.        ]\n",
        " [ 0.          0.        ]\n",
        " [ 0.          0.        ]]\n"
       ]
      }
     ],
     "prompt_number": 39
    },
    {
     "cell_type": "code",
     "collapsed": false,
     "input": [
      "#linear boundary in the feature space\n",
      "import matplotlib.pyplot\n",
      "for n in range(len(label4training)):\n",
      "    if label4training[n]==0:\n",
      "        matplotlib.pyplot.scatter(feature4training[n,0],feature4training[n,1],color='red')\n",
      "    else:\n",
      "        matplotlib.pyplot.scatter(feature4training[n,0],feature4training[n,1],color='blue')\n",
      "matplotlib.pyplot.xlabel(\"Dimension 1\")\n",
      "matplotlib.pyplot.ylabel(\"Dimension 2\")\n",
      "w=smlr.coef_[0,:]\n",
      "x = numpy.arange(-5, 5, 0.001)\n",
      "y = (-w[-1]-x*w[0])/w[1]\n",
      "matplotlib.pyplot.plot(x,y,color='black')\n",
      "import pylab\n",
      "pylab.xlim(-3,3)\n",
      "pylab.ylim(-3,3)\n",
      "matplotlib.pyplot.show()"
     ],
     "language": "python",
     "metadata": {},
     "outputs": [
      {
       "metadata": {},
       "output_type": "display_data",
       "png": "[encoded data removed]",
       "text": [
        "<matplotlib.figure.Figure at 0x112933090>"
       ]
      }
     ],
     "prompt_number": 40
    },
    {
     "cell_type": "code",
     "collapsed": false,
     "input": [
      "#generalization test\n",
      "predictedLabelBySVM=svm.predict(feature4test)\n",
      "predictedLabelBySMLR=smlr.predict(feature4test)\n",
      "\n",
      "num_correct=0\n",
      "for n in range(len(label4test)):\n",
      "    if label4test[n]==predictedLabelBySVM[n]:\n",
      "        num_correct=num_correct+1\n",
      "SVMaccuracy=numpy.double(num_correct)/len(label4test)*100\n",
      "\n",
      "num_correct=0\n",
      "for n in range(len(label4test)):\n",
      "    if label4test[n]==predictedLabelBySMLR[n]:\n",
      "        num_correct=num_correct+1\n",
      "SMLRaccuracy=numpy.double(num_correct)/len(label4test)*100\n",
      "\n",
      "print \"SVM accuracy: %s\"%(SVMaccuracy)\n",
      "print \"SMLR accuracy: %s\"%(SMLRaccuracy)"
     ],
     "language": "python",
     "metadata": {},
     "outputs": [
      {
       "output_type": "stream",
       "stream": "stdout",
       "text": [
        "SVM accuracy: 97.0\n",
        "SMLR accuracy: 98.0\n"
       ]
      }
     ],
     "prompt_number": 41
    }
   ],
   "metadata": {}
  }
 ]
}